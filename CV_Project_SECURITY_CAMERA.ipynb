{
  "cells": [
    {
      "cell_type": "markdown",
      "metadata": {
        "id": "zm2UeBDZXdvE"
      },
      "source": [
        "# SECURITY CAMERA"
      ]
    },
    {
      "cell_type": "markdown",
      "metadata": {
        "id": "wqOGgJuGXdvG"
      },
      "source": [
        "Name: Jyoti Shikha"
      ]
    },
    {
      "cell_type": "markdown",
      "metadata": {
        "id": "S7dqhx_IXdvH"
      },
      "source": [
        "Bootcamp: Computer Vision Domain"
      ]
    },
    {
      "cell_type": "markdown",
      "metadata": {
        "id": "_c4IZ6F4XdvH"
      },
      "source": [
        "Project stakeholders: People having high safety issues such as elderly people, children whose parents are working, people who live in an area of high crime rate, etc."
      ]
    },
    {
      "cell_type": "markdown",
      "metadata": {
        "id": "g92z29OuXdvI"
      },
      "source": [
        "Project Aim: To ensure the safety of the people who live alone or in risky areas with high crime rate."
      ]
    },
    {
      "cell_type": "markdown",
      "metadata": {
        "id": "KUca4QDOXdvI"
      },
      "source": [
        "# Importing the modules"
      ]
    },
    {
      "cell_type": "code",
      "execution_count": null,
      "metadata": {
        "id": "_0MhYorDXdvJ"
      },
      "outputs": [],
      "source": [
        "import cv2\n",
        "from cv2 import CascadeClassifier\n",
        "import winsound\n",
        "import datetime as dt\n",
        "from datetime import datetime\n",
        "import smtplib\n",
        "from email.message import EmailMessage\n",
        "import os"
      ]
    },
    {
      "cell_type": "markdown",
      "metadata": {
        "id": "lSOoec0JXdvK"
      },
      "source": [
        "# Alert settings"
      ]
    },
    {
      "cell_type": "code",
      "execution_count": null,
      "metadata": {
        "id": "OBSXBqjhXdvK",
        "outputId": "56e01820-a890-4e3c-a9de-c229716b98c0"
      },
      "outputs": [
        {
          "name": "stdout",
          "output_type": "stream",
          "text": [
            "Notify if movement or face is detected?(y/n): y\n"
          ]
        }
      ],
      "source": [
        "option=input(\"Notify if movement or face is detected?(y/n): \")"
      ]
    },
    {
      "cell_type": "code",
      "execution_count": null,
      "metadata": {
        "id": "tnrRXNdEXdvL"
      },
      "outputs": [],
      "source": [
        "myemail=None          #Provide email ids and password to send and receive message\n",
        "mymail=None\n",
        "passw=None"
      ]
    },
    {
      "cell_type": "markdown",
      "metadata": {
        "id": "373hTKueXdvM"
      },
      "source": [
        "# Main code block"
      ]
    },
    {
      "cell_type": "code",
      "execution_count": null,
      "metadata": {
        "id": "9-zvlyvRXdvM",
        "outputId": "b4929679-27fa-47ed-e68d-9481ee13c64d"
      },
      "outputs": [
        {
          "name": "stdout",
          "output_type": "stream",
          "text": [
            "ALERT !!!\n",
            "Faces detected in live security footage\n",
            "Motion detected in live security footage\n",
            "Message sent\n"
          ]
        }
      ],
      "source": [
        "# Initialising the camera\n",
        "\n",
        "c=cv2.VideoCapture(0)\n",
        "\n",
        "# Importing face haar cascade\n",
        "\n",
        "face_cascade = cv2.CascadeClassifier(cv2.data.haarcascades + 'haarcascade_frontalface_default.xml')\n",
        "\n",
        "# Importing today's date\n",
        "\n",
        "date = dt.date.today()\n",
        "v=str(date)\n",
        "s=v.split(\"-\")\n",
        "\n",
        "found=0\n",
        "p=0\n",
        "\n",
        "# Movement detection and alarm settings\n",
        "\n",
        "while c.isOpened():\n",
        "    ret,frame=c.read()\n",
        "    ret,frame1=c.read()\n",
        "    diff=cv2.absdiff(frame,frame1)\n",
        "    gray=cv2.cvtColor(diff,cv2.COLOR_RGB2GRAY)\n",
        "    b=cv2.GaussianBlur(gray,(5,5),0)\n",
        "    _,t=cv2.threshold(b,20,255,cv2.THRESH_BINARY)\n",
        "    d=cv2.dilate(t,None,iterations=3)\n",
        "    ct,_=cv2.findContours(d,cv2.RETR_TREE,cv2.CHAIN_APPROX_SIMPLE)\n",
        "\n",
        "\n",
        "    font=cv2.FONT_HERSHEY_SIMPLEX\n",
        "    frame=cv2.putText(frame,v,(10,50),font,1,(0,255,255),2,cv2.LINE_AA)\n",
        "\n",
        "    for i in ct:\n",
        "        if cv2.contourArea(i)<5000:\n",
        "            continue\n",
        "        x,y,w,h=cv2.boundingRect(i)\n",
        "        cv2.rectangle(frame,(x,y),(x+w,y+h),(0,0,255),2)\n",
        "        p=1\n",
        "\n",
        "        freq = 500                         #beep alarm when motion is detected\n",
        "        dur = 200\n",
        "        winsound.Beep(freq, dur)\n",
        "\n",
        "\n",
        "# Face detection and alarm settings\n",
        "\n",
        "    gray1 = cv2.cvtColor(frame, cv2.COLOR_BGR2GRAY)\n",
        "    faces = face_cascade.detectMultiScale(gray1, 1.3, 5)\n",
        "\n",
        "    for i in faces:\n",
        "        for (x,y,w,h) in faces:\n",
        "            cv2.rectangle(frame,(x,y),(x+w,y+h),(0,255,0),2)\n",
        "            roi_gray = gray1[y:y+h, x:x+w]\n",
        "            roi_color = frame[y:y+h, x:x+w]\n",
        "            crop_img = frame[y: y+h, x: x+h]\n",
        "            img = cv2.resize(crop_img, (32, 32))\n",
        "\n",
        "            found=found+1\n",
        "\n",
        "            def get_binary(img):                       #Prepare image for sending purpose\n",
        "                cv2.imwrite('temp.png', img)\n",
        "\n",
        "                with open('temp.png', 'rb') as image:\n",
        "                    content = image.read()\n",
        "\n",
        "                os.remove('temp.png')\n",
        "                return content\n",
        "\n",
        "    cv2.imshow(\"Security Camera Live Footage\",frame)\n",
        "\n",
        "    if cv2.waitKey(1) & 0xFF == ord(' '):          #press spacebar to exit camera\n",
        "        break\n",
        "\n",
        "c.release()\n",
        "cv2.destroyAllWindows()\n",
        "\n",
        "\n",
        "# Displaying alert message if faces or movement is detected\n",
        "\n",
        "if found>0:\n",
        "        print(\"ALERT !!!\")\n",
        "        print(\"Faces detected in live security footage\")\n",
        "if p>0:\n",
        "    print(\"Motion detected in live security footage\")\n",
        "\n",
        "if option==\"y\" and found>0 :\n",
        "\n",
        "        email = EmailMessage()\n",
        "        email['to'] = myemail\n",
        "        email['Subject'] = 'Security Footage'\n",
        "        email['from'] = 'AI Security Camera'\n",
        "\n",
        "        email.set_content('Face(s) detected in live security footage')\n",
        "\n",
        "        email.add_attachment(get_binary(img), maintype='image', subtype='png', filename='opencv.png')\n",
        "\n",
        "        if mymail is None or passw is None or myemail is None:\n",
        "            print('[Error] No Credentials providen, Please go to the top of this file and fill out the credentials in the constants')\n",
        "\n",
        "        with smtplib.SMTP(host='smtp.gmail.com', port=587) as smtp:\n",
        "            smtp.ehlo()\n",
        "            smtp.starttls()\n",
        "\n",
        "            while True:\n",
        "                try:\n",
        "                    smtp.login(mymail, passw)\n",
        "                    smtp.send_message(email)\n",
        "                    print(\"Message sent\")\n",
        "                    break\n",
        "                except:\n",
        "                    print(\"There was a problem while login try again or check if this program is allowed to use the mail services\")\n"
      ]
    },
    {
      "cell_type": "code",
      "execution_count": null,
      "metadata": {
        "id": "FvTfDkoGXdvN"
      },
      "outputs": [],
      "source": []
    }
  ],
  "metadata": {
    "kernelspec": {
      "display_name": "Python 3",
      "language": "python",
      "name": "python3"
    },
    "language_info": {
      "codemirror_mode": {
        "name": "ipython",
        "version": 3
      },
      "file_extension": ".py",
      "mimetype": "text/x-python",
      "name": "python",
      "nbconvert_exporter": "python",
      "pygments_lexer": "ipython3",
      "version": "3.8.5"
    },
    "colab": {
      "provenance": []
    }
  },
  "nbformat": 4,
  "nbformat_minor": 0
}